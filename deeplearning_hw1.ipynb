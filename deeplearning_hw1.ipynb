{
  "nbformat": 4,
  "nbformat_minor": 0,
  "metadata": {
    "colab": {
      "provenance": [],
      "authorship_tag": "ABX9TyPgDsqKWLPk98iQBzuSJEcF",
      "include_colab_link": true
    },
    "kernelspec": {
      "name": "python3",
      "display_name": "Python 3"
    },
    "language_info": {
      "name": "python"
    }
  },
  "cells": [
    {
      "cell_type": "markdown",
      "metadata": {
        "id": "view-in-github",
        "colab_type": "text"
      },
      "source": [
        "<a href=\"https://colab.research.google.com/github/cleverice007/ML2021-Spring/blob/main/deeplearning_hw1.ipynb\" target=\"_parent\"><img src=\"https://colab.research.google.com/assets/colab-badge.svg\" alt=\"Open In Colab\"/></a>"
      ]
    },
    {
      "cell_type": "code",
      "execution_count": 1,
      "metadata": {
        "colab": {
          "base_uri": "https://localhost:8080/"
        },
        "id": "L5GISAIf_2Cn",
        "outputId": "0531f9c8-1435-4c05-982d-ba4dc49e3238"
      },
      "outputs": [
        {
          "output_type": "stream",
          "name": "stdout",
          "text": [
            "/usr/local/lib/python3.11/dist-packages/gdown/__main__.py:140: FutureWarning: Option `--id` was deprecated in version 4.3.1 and will be removed in 5.0. You don't need to pass it anymore to use a file ID.\n",
            "  warnings.warn(\n",
            "Downloading...\n",
            "From: https://drive.google.com/uc?id=19CCyCgJrUxtvgZF53vnctJiOJ23T5mqF\n",
            "To: /content/covid.train.csv\n",
            "100% 2.00M/2.00M [00:00<00:00, 51.9MB/s]\n",
            "/usr/local/lib/python3.11/dist-packages/gdown/__main__.py:140: FutureWarning: Option `--id` was deprecated in version 4.3.1 and will be removed in 5.0. You don't need to pass it anymore to use a file ID.\n",
            "  warnings.warn(\n",
            "Downloading...\n",
            "From: https://drive.google.com/uc?id=1CE240jLm2npU-tdz81-oVKEF3T2yfT1O\n",
            "To: /content/covid.test.csv\n",
            "100% 651k/651k [00:00<00:00, 27.5MB/s]\n"
          ]
        }
      ],
      "source": [
        "tr_path = 'covid.train.csv'  # path to training data\n",
        "tt_path = 'covid.test.csv'   # path to testing data\n",
        "!gdown --id '19CCyCgJrUxtvgZF53vnctJiOJ23T5mqF' --output covid.train.csv\n",
        "!gdown --id '1CE240jLm2npU-tdz81-oVKEF3T2yfT1O' --output covid.test.csv"
      ]
    },
    {
      "cell_type": "code",
      "source": [
        "import pandas as pd\n",
        "\n",
        "# 讀取 CSV\n",
        "df = pd.read_csv('covid.train.csv')  # 或 'covid.test.csv'\n",
        "\n",
        "# 印出欄位名稱\n",
        "print(df.columns.tolist())"
      ],
      "metadata": {
        "colab": {
          "base_uri": "https://localhost:8080/"
        },
        "id": "5i9eZzDE1mXK",
        "outputId": "2a891722-88cf-49d4-c0aa-7221e8e66651"
      },
      "execution_count": 2,
      "outputs": [
        {
          "output_type": "stream",
          "name": "stdout",
          "text": [
            "['id', 'AL', 'AK', 'AZ', 'AR', 'CA', 'CO', 'CT', 'FL', 'GA', 'ID', 'IL', 'IN', 'IA', 'KS', 'KY', 'LA', 'MD', 'MA', 'MI', 'MN', 'MS', 'MO', 'NE', 'NV', 'NJ', 'NM', 'NY', 'NC', 'OH', 'OK', 'OR', 'PA', 'RI', 'SC', 'TX', 'UT', 'VA', 'WA', 'WV', 'WI', 'cli', 'ili', 'hh_cmnty_cli', 'nohh_cmnty_cli', 'wearing_mask', 'travel_outside_state', 'work_outside_home', 'shop', 'restaurant', 'spent_time', 'large_event', 'public_transit', 'anxious', 'depressed', 'felt_isolated', 'worried_become_ill', 'worried_finances', 'tested_positive', 'cli.1', 'ili.1', 'hh_cmnty_cli.1', 'nohh_cmnty_cli.1', 'wearing_mask.1', 'travel_outside_state.1', 'work_outside_home.1', 'shop.1', 'restaurant.1', 'spent_time.1', 'large_event.1', 'public_transit.1', 'anxious.1', 'depressed.1', 'felt_isolated.1', 'worried_become_ill.1', 'worried_finances.1', 'tested_positive.1', 'cli.2', 'ili.2', 'hh_cmnty_cli.2', 'nohh_cmnty_cli.2', 'wearing_mask.2', 'travel_outside_state.2', 'work_outside_home.2', 'shop.2', 'restaurant.2', 'spent_time.2', 'large_event.2', 'public_transit.2', 'anxious.2', 'depressed.2', 'felt_isolated.2', 'worried_become_ill.2', 'worried_finances.2', 'tested_positive.2']\n"
          ]
        }
      ]
    },
    {
      "cell_type": "code",
      "source": [
        "# PyTorch\n",
        "import torch\n",
        "import torch.nn as nn\n",
        "from torch.utils.data import Dataset, DataLoader\n",
        "\n",
        "# For data preprocess\n",
        "import numpy as np\n",
        "import csv\n",
        "import os\n",
        "\n",
        "# For plotting\n",
        "import matplotlib.pyplot as plt\n",
        "from matplotlib.pyplot import figure\n",
        "\n",
        "myseed = 42069  # set a random seed for reproducibility\n",
        "torch.backends.cudnn.deterministic = True\n",
        "torch.backends.cudnn.benchmark = False\n",
        "np.random.seed(myseed)\n",
        "torch.manual_seed(myseed)\n",
        "if torch.cuda.is_available():\n",
        "    torch.cuda.manual_seed_all(myseed)"
      ],
      "metadata": {
        "id": "neOGCzLiMzg6"
      },
      "execution_count": 3,
      "outputs": []
    },
    {
      "cell_type": "code",
      "source": [
        "def get_device():\n",
        "    ''' Get device (if GPU is available, use GPU) '''\n",
        "    return 'cuda' if torch.cuda.is_available() else 'cpu'\n",
        "\n",
        "def plot_learning_curve(loss_record, title=''):\n",
        "    ''' Plot learning curve of your DNN (train & dev loss) '''\n",
        "    total_steps = len(loss_record['train'])\n",
        "    x_1 = range(total_steps)\n",
        "    x_2 = x_1[::len(loss_record['train']) // len(loss_record['dev'])]\n",
        "    figure(figsize=(6, 4))\n",
        "    plt.plot(x_1, loss_record['train'], c='tab:red', label='train')\n",
        "    plt.plot(x_2, loss_record['dev'], c='tab:cyan', label='dev')\n",
        "    plt.ylim(0.0, 5.)\n",
        "    plt.xlabel('Training steps')\n",
        "    plt.ylabel('MSE loss')\n",
        "    plt.title('Learning curve of {}'.format(title))\n",
        "    plt.legend()\n",
        "    plt.show()\n",
        "\n",
        "\n",
        "def plot_pred(dv_set, model, device, lim=35., preds=None, targets=None):\n",
        "    ''' Plot prediction of your DNN '''\n",
        "    if preds is None or targets is None:\n",
        "        model.eval()\n",
        "        preds, targets = [], []\n",
        "        for x, y in dv_set:\n",
        "            x, y = x.to(device), y.to(device)\n",
        "            with torch.no_grad():\n",
        "                pred = model(x)\n",
        "                preds.append(pred.detach().cpu())\n",
        "                targets.append(y.detach().cpu())\n",
        "        preds = torch.cat(preds, dim=0).numpy()\n",
        "        targets = torch.cat(targets, dim=0).numpy()\n",
        "\n",
        "    figure(figsize=(5, 5))\n",
        "    plt.scatter(targets, preds, c='r', alpha=0.5)\n",
        "    plt.plot([-0.2, lim], [-0.2, lim], c='b')\n",
        "    plt.xlim(-0.2, lim)\n",
        "    plt.ylim(-0.2, lim)\n",
        "    plt.xlabel('ground truth value')\n",
        "    plt.ylabel('predicted value')\n",
        "    plt.title('Ground Truth v.s. Prediction')\n",
        "    plt.show()\n"
      ],
      "metadata": {
        "id": "apGMGp8cNA8Q"
      },
      "execution_count": 4,
      "outputs": []
    },
    {
      "cell_type": "code",
      "source": [
        "class COVID19Dataset(Dataset):\n",
        "    ''' Dataset for loading and preprocessing the COVID19 dataset '''\n",
        "    def __init__(self,\n",
        "                 path,\n",
        "                 mode='train',\n",
        "                 target_only=False):\n",
        "        self.mode = mode\n",
        "\n",
        "        # Read data into numpy arrays\n",
        "        with open(path, 'r') as fp:\n",
        "            data = list(csv.reader(fp))\n",
        "            data = np.array(data[1:])[:, 1:].astype(float)\n",
        "\n",
        "        if not target_only:\n",
        "            feats = list(range(93))\n",
        "        else:\n",
        "            # Using 40 states & 2 tested_positive features (indices = 57 & 75)\n",
        "            feats = list(range(40)) + [57, 75]\n",
        "\n",
        "        if mode == 'test':\n",
        "            # Testing data\n",
        "            # data: 893 x 93 (40 states + day 1 (18) + day 2 (18) + day 3 (17))\n",
        "            data = data[:, feats]\n",
        "            self.data = torch.FloatTensor(data)\n",
        "        else:\n",
        "            # Training data (train/dev sets)\n",
        "            # data: 2700 x 94 (40 states + day 1 (18) + day 2 (18) + day 3 (18))\n",
        "            target = data[:, -1]\n",
        "            data = data[:, feats]\n",
        "\n",
        "            # Splitting training data into train & dev sets\n",
        "            if mode == 'train':\n",
        "                indices = [i for i in range(len(data)) if i % 10 != 0]\n",
        "            elif mode == 'dev':\n",
        "                indices = [i for i in range(len(data)) if i % 10 == 0]\n",
        "\n",
        "            # Convert data into PyTorch tensors\n",
        "            self.data = torch.FloatTensor(data[indices])\n",
        "            self.target = torch.FloatTensor(target[indices])\n",
        "\n",
        "        # Normalize features (you may remove this part to see what will happen)\n",
        "        self.data[:, 40:] = \\\n",
        "            (self.data[:, 40:] - self.data[:, 40:].mean(dim=0, keepdim=True)) \\\n",
        "            / self.data[:, 40:].std(dim=0, keepdim=True)\n",
        "\n",
        "        self.dim = self.data.shape[1]\n",
        "\n",
        "        print('Finished reading the {} set of COVID19 Dataset ({} samples found, each dim = {})'\n",
        "              .format(mode, len(self.data), self.dim))\n",
        "\n",
        "    def __getitem__(self, index):\n",
        "        # Returns one sample at a time\n",
        "        if self.mode in ['train', 'dev']:\n",
        "            # For training\n",
        "            return self.data[index], self.target[index]\n",
        "        else:\n",
        "            # For testing (no target)\n",
        "            return self.data[index]\n",
        "\n",
        "    def __len__(self):\n",
        "        # Returns the size of the dataset\n",
        "        return len(self.data)\n",
        ""
      ],
      "metadata": {
        "id": "r8g7AcwmNhRO"
      },
      "execution_count": 5,
      "outputs": []
    },
    {
      "cell_type": "code",
      "source": [
        "\n",
        "def prep_dataloader(path, mode, batch_size, n_jobs=0, target_only=False):\n",
        "    ''' Generates a dataset, then is put into a dataloader. '''\n",
        "    dataset = COVID19Dataset(path, mode=mode, target_only=target_only)  # Construct dataset\n",
        "    dataloader = DataLoader(\n",
        "        dataset, batch_size,\n",
        "        shuffle=(mode == 'train'), drop_last=False,\n",
        "        num_workers=n_jobs, pin_memory=True)                            # Construct dataloader\n",
        "    return dataloader"
      ],
      "metadata": {
        "id": "q5VRvhTzX1j9"
      },
      "execution_count": 6,
      "outputs": []
    },
    {
      "cell_type": "code",
      "source": [
        "\n",
        "import torch\n",
        "import torch.nn as nn\n",
        "\n",
        "class NeuralNet(nn.Module):\n",
        "    ''' A fully-connected deep neural network with improved performance '''\n",
        "    def __init__(self, input_dim):\n",
        "        super(NeuralNet, self).__init__()\n",
        "\n",
        "        # Add more layers, BatchNorm and Dropout to improve performance\n",
        "        self.net = nn.Sequential(\n",
        "            nn.Linear(input_dim, 64),          # increased hidden size\n",
        "            nn.BatchNorm1d(64),                # add BatchNorm for stable training\n",
        "            nn.ReLU(),\n",
        "            nn.Dropout(0.2),                    # add Dropout to reduce overfitting\n",
        "\n",
        "            nn.Linear(64, 32),\n",
        "            nn.BatchNorm1d(32),                 # add another BatchNorm layer\n",
        "            nn.ReLU(),\n",
        "            nn.Dropout(0.2),\n",
        "\n",
        "            nn.Linear(32, 1)                    # final regression output\n",
        "        )\n",
        "\n",
        "        self.criterion = nn.MSELoss(reduction='mean')\n",
        "\n",
        "    def forward(self, x):\n",
        "        # squeeze output to (batch_size,)\n",
        "        return self.net(x).squeeze(1)\n",
        "\n",
        "    def cal_loss(self, pred, target, l1_lambda=0.0, l2_lambda=0.0):\n",
        "        loss = self.criterion(pred, target)\n",
        "\n",
        "        # Add L1 regularization term\n",
        "        if l1_lambda > 0:\n",
        "            l1 = sum(torch.sum(torch.abs(p)) for p in self.parameters())\n",
        "            loss += l1_lambda * l1\n",
        "\n",
        "        # Add L2 regularization term\n",
        "        if l2_lambda > 0:\n",
        "            l2 = sum(torch.sum(p ** 2) for p in self.parameters())\n",
        "            loss += l2_lambda * l2\n",
        "\n",
        "        return loss\n"
      ],
      "metadata": {
        "id": "be7PPCI7O4CF"
      },
      "execution_count": 21,
      "outputs": []
    },
    {
      "cell_type": "code",
      "source": [
        "def train(tr_set, dv_set, model, config, device):\n",
        "    ''' DNN training '''\n",
        "\n",
        "    n_epochs = config['n_epochs']  # Maximum number of epochs\n",
        "\n",
        "    # Setup optimizer\n",
        "    optimizer = getattr(torch.optim, config['optimizer'])(\n",
        "        model.parameters(), **config['optim_hparas'])\n",
        "\n",
        "    min_mse = 1000.\n",
        "    loss_record = {'train': [], 'dev': []}  # for recording training loss\n",
        "    early_stop_cnt = 0\n",
        "    epoch = 0\n",
        "\n",
        "    while epoch < n_epochs:\n",
        "        model.train()  # set model to training mode\n",
        "\n",
        "        for x, y in tr_set:  # iterate through the dataloader\n",
        "            optimizer.zero_grad()  # set gradient to zero\n",
        "            x, y = x.to(device), y.to(device)  # move data to device\n",
        "            pred = model(x)  # forward pass\n",
        "\n",
        "            # compute loss with L1/L2 regularization support\n",
        "            mse_loss = model.cal_loss(\n",
        "                pred, y,\n",
        "                l1_lambda=config.get('l1_lambda', 0.0),\n",
        "                l2_lambda=config.get('l2_lambda', 0.0)\n",
        "            )\n",
        "\n",
        "            mse_loss.backward()  # backpropagation\n",
        "            optimizer.step()  # update weights\n",
        "            loss_record['train'].append(mse_loss.detach().cpu().item())\n",
        "\n",
        "        # Validation after each epoch\n",
        "        dev_mse = dev(dv_set, model, device)\n",
        "        if dev_mse < min_mse:\n",
        "            min_mse = dev_mse\n",
        "            print('Saving model (epoch = {:4d}, val_loss = {:.4f})'\n",
        "                  .format(epoch + 1, min_mse))\n",
        "            torch.save(model.state_dict(), config['save_path'])\n",
        "            early_stop_cnt = 0\n",
        "        else:\n",
        "            early_stop_cnt += 1\n",
        "\n",
        "        epoch += 1\n",
        "        loss_record['dev'].append(dev_mse)\n",
        "\n",
        "        # Early stopping check\n",
        "        if early_stop_cnt > config['early_stop']:\n",
        "            break\n",
        "\n",
        "    print('Finished training after {} epochs'.format(epoch))\n",
        "    return min_mse, loss_record\n"
      ],
      "metadata": {
        "id": "-IGl1neOgOss"
      },
      "execution_count": 20,
      "outputs": []
    },
    {
      "cell_type": "code",
      "source": [
        "\n",
        "def dev(dv_set, model, device):\n",
        "    model.eval()                                # set model to evalutation mode\n",
        "    total_loss = 0\n",
        "    for x, y in dv_set:                         # iterate through the dataloader\n",
        "        x, y = x.to(device), y.to(device)       # move data to device (cpu/cuda)\n",
        "        with torch.no_grad():                   # disable gradient calculation\n",
        "            pred = model(x)                     # forward pass (compute output)\n",
        "            mse_loss = model.cal_loss(pred, y)  # compute loss\n",
        "        total_loss += mse_loss.detach().cpu().item() * len(x)  # accumulate loss\n",
        "    total_loss = total_loss / len(dv_set.dataset)              # compute averaged loss\n",
        "\n",
        "    return total_loss"
      ],
      "metadata": {
        "id": "OU3ucRBghcLw"
      },
      "execution_count": 27,
      "outputs": []
    },
    {
      "cell_type": "code",
      "source": [
        "def test(tt_set, model, device):\n",
        "    model.eval()                                # set model to evalutation mode\n",
        "    preds = []\n",
        "    for x in tt_set:                            # iterate through the dataloader\n",
        "        x = x.to(device)                        # move data to device (cpu/cuda)\n",
        "        with torch.no_grad():                   # disable gradient calculation\n",
        "            pred = model(x)                     # forward pass (compute output)\n",
        "            preds.append(pred.detach().cpu())   # collect prediction\n",
        "    preds = torch.cat(preds, dim=0).numpy()     # concatenate all predictions and convert to a numpy array\n",
        "    return preds"
      ],
      "metadata": {
        "id": "CaowQLsYjxow"
      },
      "execution_count": 9,
      "outputs": []
    },
    {
      "cell_type": "code",
      "source": [
        "device = get_device()                 # get the current available device ('cpu' or 'cuda')\n",
        "os.makedirs('models', exist_ok=True)  # The trained model will be saved to ./models/\n",
        "target_only = True                   # TODO: Using 40 states & 2 tested_positive features\n",
        "\n",
        "seed = 459\n",
        "np.random.seed(seed)\n",
        "delta = np.random.normal(loc=0,scale = 0.000001)\n",
        "\n",
        "# TODO: How to tune these hyper-parameters to improve your model's performance?\n",
        "config = {\n",
        "    'n_epochs': 3000,                # maximum number of epochs\n",
        "    'batch_size': 128,               # mini-batch size for dataloader\n",
        "    'optimizer': 'Adam',             # optimization algorithm (optimizer in torch.optim)\n",
        "    'optim_hparas': {                # hyper-parameters for the optimizer (depends on which optimizer you are using)\n",
        "        'lr': 0.001,                 # learning rate of Adam\n",
        "    },\n",
        "    'l1_lambda':1e-6,        # L1 regularization\n",
        "    'l2_lambda': 1e-4,\n",
        "    'early_stop': 200,               # early stopping epochs (the number epochs since your model's last improvement)\n",
        "    'save_path': 'models/model.pth'  # your model will be saved here\n",
        "}\n",
        "\n",
        "\n",
        "myseed = 42069  # set a random seed for reproducibility\n",
        "torch.backends.cudnn.deterministic = True\n",
        "torch.backends.cudnn.benchmark = False\n",
        "np.random.seed(myseed)\n",
        "torch.manual_seed(myseed)\n",
        "if torch.cuda.is_available():\n",
        "    torch.cuda.manual_seed_all(myseed)"
      ],
      "metadata": {
        "id": "KD6Qa45Fj5Cr"
      },
      "execution_count": 22,
      "outputs": []
    },
    {
      "cell_type": "code",
      "source": [
        "\n",
        "tr_set = prep_dataloader(tr_path, 'train', config['batch_size'], target_only=target_only)\n",
        "dv_set = prep_dataloader(tr_path, 'dev', config['batch_size'], target_only=target_only)\n",
        "tt_set = prep_dataloader(tt_path, 'test', config['batch_size'], target_only=target_only)"
      ],
      "metadata": {
        "colab": {
          "base_uri": "https://localhost:8080/"
        },
        "id": "xU3D5yvOudwz",
        "outputId": "0d33b3a4-a254-48a1-bb01-911ab38a4770"
      },
      "execution_count": 11,
      "outputs": [
        {
          "output_type": "stream",
          "name": "stdout",
          "text": [
            "Finished reading the train set of COVID19 Dataset (2430 samples found, each dim = 42)\n",
            "Finished reading the dev set of COVID19 Dataset (270 samples found, each dim = 42)\n",
            "Finished reading the test set of COVID19 Dataset (893 samples found, each dim = 42)\n"
          ]
        }
      ]
    },
    {
      "cell_type": "code",
      "source": [
        "model = NeuralNet(tr_set.dataset.dim).to(device)  # Construct model and move to device\n"
      ],
      "metadata": {
        "id": "qrQUJKCjueVT"
      },
      "execution_count": 28,
      "outputs": []
    },
    {
      "cell_type": "code",
      "source": [
        "model_loss, model_loss_record = train(tr_set, dv_set, model, config, device)\n"
      ],
      "metadata": {
        "colab": {
          "base_uri": "https://localhost:8080/"
        },
        "id": "4Q2i3g5qugHC",
        "outputId": "ab1326fe-ed2a-4e50-a155-c0f4dc487359"
      },
      "execution_count": 29,
      "outputs": [
        {
          "output_type": "stream",
          "name": "stdout",
          "text": [
            "Saving model (epoch =    1, val_loss = 327.5214)\n",
            "Saving model (epoch =    2, val_loss = 321.4459)\n",
            "Saving model (epoch =    3, val_loss = 311.7056)\n",
            "Saving model (epoch =    4, val_loss = 299.1652)\n",
            "Saving model (epoch =    5, val_loss = 288.0822)\n",
            "Saving model (epoch =    6, val_loss = 280.2327)\n",
            "Saving model (epoch =    7, val_loss = 274.2568)\n",
            "Saving model (epoch =    8, val_loss = 268.5315)\n",
            "Saving model (epoch =    9, val_loss = 263.4160)\n",
            "Saving model (epoch =   10, val_loss = 258.3325)\n",
            "Saving model (epoch =   11, val_loss = 252.7298)\n",
            "Saving model (epoch =   12, val_loss = 248.2122)\n",
            "Saving model (epoch =   13, val_loss = 242.7381)\n",
            "Saving model (epoch =   14, val_loss = 236.7850)\n",
            "Saving model (epoch =   15, val_loss = 229.2674)\n",
            "Saving model (epoch =   16, val_loss = 221.8061)\n",
            "Saving model (epoch =   17, val_loss = 215.0916)\n",
            "Saving model (epoch =   18, val_loss = 206.2692)\n",
            "Saving model (epoch =   19, val_loss = 198.7592)\n",
            "Saving model (epoch =   20, val_loss = 191.0208)\n",
            "Saving model (epoch =   21, val_loss = 182.2915)\n",
            "Saving model (epoch =   22, val_loss = 172.9421)\n",
            "Saving model (epoch =   23, val_loss = 165.8538)\n",
            "Saving model (epoch =   24, val_loss = 157.4034)\n",
            "Saving model (epoch =   25, val_loss = 149.3003)\n",
            "Saving model (epoch =   26, val_loss = 141.4918)\n",
            "Saving model (epoch =   27, val_loss = 134.9348)\n",
            "Saving model (epoch =   28, val_loss = 127.6244)\n",
            "Saving model (epoch =   29, val_loss = 118.9904)\n",
            "Saving model (epoch =   30, val_loss = 110.8401)\n",
            "Saving model (epoch =   31, val_loss = 101.7059)\n",
            "Saving model (epoch =   32, val_loss = 96.9483)\n",
            "Saving model (epoch =   33, val_loss = 89.9669)\n",
            "Saving model (epoch =   34, val_loss = 83.5181)\n",
            "Saving model (epoch =   35, val_loss = 76.2955)\n",
            "Saving model (epoch =   36, val_loss = 71.7875)\n",
            "Saving model (epoch =   37, val_loss = 65.3812)\n",
            "Saving model (epoch =   38, val_loss = 58.5751)\n",
            "Saving model (epoch =   39, val_loss = 54.4657)\n",
            "Saving model (epoch =   40, val_loss = 50.4868)\n",
            "Saving model (epoch =   41, val_loss = 46.7686)\n",
            "Saving model (epoch =   42, val_loss = 42.6702)\n",
            "Saving model (epoch =   43, val_loss = 38.5379)\n",
            "Saving model (epoch =   44, val_loss = 35.9650)\n",
            "Saving model (epoch =   45, val_loss = 32.4782)\n",
            "Saving model (epoch =   46, val_loss = 28.4029)\n",
            "Saving model (epoch =   47, val_loss = 25.7872)\n",
            "Saving model (epoch =   48, val_loss = 23.0576)\n",
            "Saving model (epoch =   49, val_loss = 21.2412)\n",
            "Saving model (epoch =   50, val_loss = 19.6305)\n",
            "Saving model (epoch =   51, val_loss = 17.5819)\n",
            "Saving model (epoch =   52, val_loss = 15.3258)\n",
            "Saving model (epoch =   53, val_loss = 14.2622)\n",
            "Saving model (epoch =   54, val_loss = 12.9012)\n",
            "Saving model (epoch =   55, val_loss = 11.6041)\n",
            "Saving model (epoch =   56, val_loss = 9.8732)\n",
            "Saving model (epoch =   57, val_loss = 8.9737)\n",
            "Saving model (epoch =   58, val_loss = 8.4475)\n",
            "Saving model (epoch =   59, val_loss = 6.9468)\n",
            "Saving model (epoch =   60, val_loss = 5.9169)\n",
            "Saving model (epoch =   61, val_loss = 5.5355)\n",
            "Saving model (epoch =   62, val_loss = 4.3676)\n",
            "Saving model (epoch =   63, val_loss = 4.1702)\n",
            "Saving model (epoch =   64, val_loss = 3.6817)\n",
            "Saving model (epoch =   65, val_loss = 3.2849)\n",
            "Saving model (epoch =   67, val_loss = 2.7314)\n",
            "Saving model (epoch =   69, val_loss = 2.3279)\n",
            "Saving model (epoch =   71, val_loss = 2.0986)\n",
            "Saving model (epoch =   73, val_loss = 1.8146)\n",
            "Saving model (epoch =   77, val_loss = 1.5535)\n",
            "Saving model (epoch =   80, val_loss = 1.5339)\n",
            "Saving model (epoch =   82, val_loss = 1.4813)\n",
            "Saving model (epoch =   83, val_loss = 1.4211)\n",
            "Saving model (epoch =   85, val_loss = 1.3649)\n",
            "Saving model (epoch =   86, val_loss = 1.2988)\n",
            "Saving model (epoch =   94, val_loss = 1.2396)\n",
            "Saving model (epoch =   98, val_loss = 1.2374)\n",
            "Saving model (epoch =  101, val_loss = 1.2246)\n",
            "Saving model (epoch =  124, val_loss = 1.1478)\n",
            "Saving model (epoch =  179, val_loss = 1.1105)\n",
            "Saving model (epoch =  266, val_loss = 1.1035)\n",
            "Saving model (epoch =  306, val_loss = 1.0898)\n",
            "Saving model (epoch =  324, val_loss = 1.0711)\n",
            "Finished training after 525 epochs\n"
          ]
        }
      ]
    },
    {
      "cell_type": "code",
      "source": [
        "plot_learning_curve(model_loss_record, title='deep model')\n"
      ],
      "metadata": {
        "colab": {
          "base_uri": "https://localhost:8080/",
          "height": 410
        },
        "id": "W0JXt3Bhuhnb",
        "outputId": "b9eb6062-018a-4e40-9152-2e0aa5031ff0"
      },
      "execution_count": 30,
      "outputs": [
        {
          "output_type": "display_data",
          "data": {
            "text/plain": [
              "<Figure size 600x400 with 1 Axes>"
            ],
            "image/png": "[encoded data removed]"
          },
          "metadata": {}
        }
      ]
    },
    {
      "cell_type": "code",
      "source": [
        "del model\n",
        "model = NeuralNet(tr_set.dataset.dim).to(device)\n",
        "ckpt = torch.load(config['save_path'], map_location='cpu')  # Load your best model\n",
        "model.load_state_dict(ckpt)\n",
        "plot_pred(dv_set, model, device)  # Show prediction on the validation set\n",
        ""
      ],
      "metadata": {
        "colab": {
          "base_uri": "https://localhost:8080/",
          "height": 487
        },
        "id": "1hB_Us9SulfR",
        "outputId": "ca53e2fd-2150-4013-c96c-d184f1f2cf24"
      },
      "execution_count": 26,
      "outputs": [
        {
          "output_type": "display_data",
          "data": {
            "text/plain": [
              "<Figure size 500x500 with 1 Axes>"
            ],
            "image/png": "[encoded data removed]"
          },
          "metadata": {}
        }
      ]
    },
    {
      "cell_type": "code",
      "source": [
        "\n",
        "\n",
        "def save_pred(preds, file):\n",
        "    ''' Save predictions to specified file '''\n",
        "    print('Saving results to {}'.format(file))\n",
        "    with open(file, 'w') as fp:\n",
        "        writer = csv.writer(fp)\n",
        "        writer.writerow(['id', 'tested_positive'])\n",
        "        for i, p in enumerate(preds):\n",
        "            writer.writerow([i, p])\n",
        "\n",
        "preds = test(tt_set, model, device)  # predict COVID-19 cases with your model\n",
        "save_pred(preds, 'pred.csv')         # save prediction file to pred.csv"
      ],
      "metadata": {
        "colab": {
          "base_uri": "https://localhost:8080/"
        },
        "id": "H5URuFK9uoNP",
        "outputId": "423e5c46-1520-409f-a5fb-04360da9bd0b"
      },
      "execution_count": 19,
      "outputs": [
        {
          "output_type": "stream",
          "name": "stdout",
          "text": [
            "Saving results to pred.csv\n"
          ]
        }
      ]
    }
  ]
}